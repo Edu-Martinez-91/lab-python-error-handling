{
 "cells": [
  {
   "cell_type": "markdown",
   "id": "25d7736c-ba17-4aff-b6bb-66eba20fbf4e",
   "metadata": {},
   "source": [
    "# Lab | Error Handling"
   ]
  },
  {
   "cell_type": "markdown",
   "id": "bc99b386-7508-47a0-bcdb-d969deaf6c8b",
   "metadata": {},
   "source": [
    "## Exercise: Error Handling for Managing Customer Orders\n",
    "\n",
    "The implementation of your code for managing customer orders assumes that the user will always enter a valid input. \n",
    "\n",
    "For example, we could modify the `initialize_inventory` function to include error handling.\n",
    "   - If the user enters an invalid quantity (e.g., a negative value or a non-numeric value), display an error message and ask them to re-enter the quantity for that product.\n",
    "   - Use a try-except block to handle the error and continue prompting the user until a valid quantity is entered.\n",
    "\n",
    "```python\n",
    "# Step 1: Define the function for initializing the inventory with error handling\n",
    "def initialize_inventory(products):\n",
    "    inventory = {}\n",
    "    for product in products:\n",
    "        valid_quantity = False\n",
    "        while not valid_quantity:\n",
    "            try:\n",
    "                quantity = int(input(f\"Enter the quantity of {product}s available: \"))\n",
    "                if quantity < 0:\n",
    "                    raise ValueError(\"Invalid quantity! Please enter a non-negative value.\")\n",
    "                valid_quantity = True\n",
    "            except ValueError as error:\n",
    "                print(f\"Error: {error}\")\n",
    "        inventory[product] = quantity\n",
    "    return inventory\n",
    "\n",
    "# Or, in another way:\n",
    "\n",
    "def initialize_inventory(products):\n",
    "    inventory = {}\n",
    "    for product in products:\n",
    "        valid_input = False\n",
    "        while not valid_input:\n",
    "            try:\n",
    "                quantity = int(input(f\"Enter the quantity of {product}s available: \"))\n",
    "                if quantity >= 0:\n",
    "                    inventory[product] = quantity\n",
    "                    valid_input = True\n",
    "                else:\n",
    "                    print(\"Quantity cannot be negative. Please enter a valid quantity.\")\n",
    "            except ValueError:\n",
    "                print(\"Invalid input. Please enter a valid quantity.\")\n",
    "    return inventory\n",
    "```\n",
    "\n",
    "Let's enhance your code by implementing error handling to handle invalid inputs.\n",
    "\n",
    "Follow the steps below to complete the exercise:\n",
    "\n",
    "2. Modify the `calculate_total_price` function to include error handling.\n",
    "   - If the user enters an invalid price (e.g., a negative value or a non-numeric value), display an error message and ask them to re-enter the price for that product.\n",
    "   - Use a try-except block to handle the error and continue prompting the user until a valid price is entered.\n",
    "\n",
    "3. Modify the `get_customer_orders` function to include error handling.\n",
    "   - If the user enters an invalid number of orders (e.g., a negative value or a non-numeric value), display an error message and ask them to re-enter the number of orders.\n",
    "   - If the user enters an invalid product name (e.g., a product name that is not in the inventory), or that doesn't have stock available, display an error message and ask them to re-enter the product name. *Hint: you will need to pass inventory as a parameter*\n",
    "   - Use a try-except block to handle the error and continue prompting the user until a valid product name is entered.\n",
    "\n",
    "4. Test your code by running the program and deliberately entering invalid quantities and product names. Make sure the error handling mechanism works as expected.\n"
   ]
  },
  {
   "cell_type": "code",
   "execution_count": 5,
   "id": "dc6907aa-56b7-4755-ae7b-bcb94ab66882",
   "metadata": {},
   "outputs": [],
   "source": [
    "def initialize_inventory(products):\n",
    "    inventory = {}\n",
    "    for product in products:\n",
    "        valid_quantity = False\n",
    "        while not valid_quantity:\n",
    "            try:\n",
    "                quantity = int(input(f\"Enter the quantity of {product}s available: \"))\n",
    "                if quantity < 0:\n",
    "                    raise ValueError(\"Invalid quantity! Please enter a non-negative value.\")\n",
    "                valid_quantity = True\n",
    "            except ValueError as error:\n",
    "                print(f\"Error: {error}\")\n",
    "        inventory[product] = quantity\n",
    "    return inventory\n",
    "\n",
    "products=[\"t-shirt\",\"mug\",\"hat\",\"book\",\"keychain\"]"
   ]
  },
  {
   "cell_type": "code",
   "execution_count": 7,
   "id": "126cba06-7f4b-40be-a1c6-41e99bd46b4b",
   "metadata": {},
   "outputs": [
    {
     "name": "stdin",
     "output_type": "stream",
     "text": [
      "Enter the quantity of t-shirts available:  3\n",
      "Enter the quantity of mugs available:  1\n",
      "Enter the quantity of hats available:  2\n",
      "Enter the quantity of books available:  1\n",
      "Enter the quantity of keychains available:  1\n"
     ]
    }
   ],
   "source": [
    "inventory=initialize_inventory(products)"
   ]
  },
  {
   "cell_type": "markdown",
   "id": "02c42bdb-3bf6-46ed-877c-43ed33b6cb9e",
   "metadata": {},
   "source": [
    "2. Modify the `calculate_total_price` function to include error handling.\n",
    "   - If the user enters an invalid price (e.g., a negative value or a non-numeric value), display an error message and ask them to re-enter the price for that product.\n",
    "   - Use a try-except block to handle the error and continue prompting the user until a valid price is entered."
   ]
  },
  {
   "cell_type": "code",
   "execution_count": 9,
   "id": "9d669115-e9f2-43cc-94fa-800a17c20a0e",
   "metadata": {},
   "outputs": [],
   "source": [
    "def calculate_total_price(list):\n",
    "    total_price=0\n",
    "    for product in list:\n",
    "        valid_price=False\n",
    "        while not valid_price:\n",
    "            try:\n",
    "                price=int(input(f\"Enter a price for the {product}\"))\n",
    "                if price<0:\n",
    "                    raise ValueError(\"Invalid quantity! Please don't introduce a negative value.\")\n",
    "                else:\n",
    "                    total_price+=price\n",
    "                    valid_price=True\n",
    "            except ValueError as error:\n",
    "                print(f\"Error: {error}\")\n",
    "    return total_price"
   ]
  },
  {
   "cell_type": "code",
   "execution_count": 11,
   "id": "208e33db-1ae7-47ba-8efa-1fcfae265c9d",
   "metadata": {},
   "outputs": [
    {
     "name": "stdin",
     "output_type": "stream",
     "text": [
      "Enter a price for the t-shirt -5\n"
     ]
    },
    {
     "name": "stdout",
     "output_type": "stream",
     "text": [
      "Error: Invalid quantity! Please don't introduce a negative value.\n"
     ]
    },
    {
     "name": "stdin",
     "output_type": "stream",
     "text": [
      "Enter a price for the t-shirt A\n"
     ]
    },
    {
     "name": "stdout",
     "output_type": "stream",
     "text": [
      "Error: invalid literal for int() with base 10: 'A'\n"
     ]
    },
    {
     "name": "stdin",
     "output_type": "stream",
     "text": [
      "Enter a price for the t-shirt 15\n",
      "Enter a price for the mug 7\n",
      "Enter a price for the hat 45\n",
      "Enter a price for the book 12\n",
      "Enter a price for the keychain 3\n"
     ]
    },
    {
     "data": {
      "text/plain": [
       "82"
      ]
     },
     "execution_count": 11,
     "metadata": {},
     "output_type": "execute_result"
    }
   ],
   "source": [
    "total_price= calculate_total_price(products)\n",
    "total_price"
   ]
  },
  {
   "cell_type": "markdown",
   "id": "de79c146-5dd5-4c0c-b179-550101a038c8",
   "metadata": {},
   "source": [
    "3. Modify the `get_customer_orders` function to include error handling.\n",
    "   - If the user enters an invalid number of orders (e.g., a negative value or a non-numeric value), display an error message and ask them to re-enter the number of orders.\n",
    "   - If the user enters an invalid product name (e.g., a product name that is not in the inventory), or that doesn't have stock available, display an error message and ask them to re-enter the product name. *Hint: you will need to pass inventory as a parameter*\n",
    "   - Use a try-except block to handle the error and continue prompting the user until a valid product name is entered."
   ]
  },
  {
   "cell_type": "markdown",
   "id": "964334ca-60d6-436d-a9a3-2f6d773d0ef7",
   "metadata": {},
   "source": [
    "def get_customer_orders():\n",
    "    customer_set=set()\n",
    "    try:\n",
    "        num_orders=int(input(\"How many orders will you have?\"))\n",
    "        for num in range(num_orders):\n",
    "            product=input(\"Which product will you have?\")\n",
    "            customer_set.add(product)\n",
    "    except:ValueError\n",
    "    return customer_set"
   ]
  },
  {
   "cell_type": "markdown",
   "id": "c33220b3-e48e-43ed-bbd0-4a0aea77dd23",
   "metadata": {},
   "source": [
    "def get_customer_orders(dict): ##SUPER ORGULLOSO. NO HE MIRADO AYUDA. NO TE LO CREERÁS EN UN FUTURO PERO ASÍ FUE\n",
    "    customer_set=set()\n",
    "    valid_input=False\n",
    "    while not valid_input:\n",
    "        try:\n",
    "            num_orders=int(input(\"How many orders will you have?\"))\n",
    "            if num_orders<0:\n",
    "                raise ValueError(\"Invalid quantity! Please enter a positive number\")\n",
    "            else:\n",
    "                valid_input=True\n",
    "        except ValueError as error:\n",
    "            print(f\"Error: {error}\")\n",
    "        for num in range(num_orders):\n",
    "            try:\n",
    "                product=input(\"Which product will you have?\")\n",
    "                if product not in dict:\n",
    "                    raise ValueError(f\"We don't have {product}s, we apologize. Please enter another product:\")\n",
    "                else:\n",
    "                    customer_set.add(product)\n",
    "                    valid_input=True\n",
    "            except ValueError as error:\n",
    "                print(f\"Error: {error}\")\n",
    "    return customer_set"
   ]
  },
  {
   "cell_type": "code",
   "execution_count": 13,
   "id": "a90dea96-e3e1-4ef0-995b-b8316e68c543",
   "metadata": {},
   "outputs": [],
   "source": [
    "def get_customer_orders(dict): ##SUPER ORGULLOSO. NO HE MIRADO AYUDA. NO TE LO CREERÁS EN UN FUTURO PERO ASÍ FUE\n",
    "    customer_set=set()\n",
    "    valid_input=False\n",
    "    while not valid_input:\n",
    "        try:\n",
    "            num_orders=int(input(\"How many orders will you have?\"))\n",
    "            if num_orders<0:\n",
    "                raise ValueError(\"Invalid quantity! Please enter a positive number\")\n",
    "            else:\n",
    "                valid_input=True\n",
    "        except ValueError as error:\n",
    "            print(f\"Error: {error}\")\n",
    "    for num in range(num_orders):\n",
    "        valid_input2=False\n",
    "        while not valid_input2:\n",
    "            try:\n",
    "                product=input(\"Which product will you have?\")\n",
    "                if product not in dict:\n",
    "                    raise ValueError(f\"We don't have {product}s, we apologize. Please enter another product:\")\n",
    "                customer_set.add(product)\n",
    "                valid_input2=True\n",
    "            except ValueError as error:\n",
    "                print(f\"Error: {error}\")\n",
    "    return customer_set"
   ]
  },
  {
   "cell_type": "code",
   "execution_count": 15,
   "id": "2608a7a9-0230-49d8-aa56-d63765715979",
   "metadata": {},
   "outputs": [
    {
     "name": "stdin",
     "output_type": "stream",
     "text": [
      "How many orders will you have? -3\n"
     ]
    },
    {
     "name": "stdout",
     "output_type": "stream",
     "text": [
      "Error: Invalid quantity! Please enter a positive number\n"
     ]
    },
    {
     "name": "stdin",
     "output_type": "stream",
     "text": [
      "How many orders will you have? -3\n"
     ]
    },
    {
     "name": "stdout",
     "output_type": "stream",
     "text": [
      "Error: Invalid quantity! Please enter a positive number\n"
     ]
    },
    {
     "name": "stdin",
     "output_type": "stream",
     "text": [
      "How many orders will you have? 3\n",
      "Which product will you have? T-SHIRT\n"
     ]
    },
    {
     "name": "stdout",
     "output_type": "stream",
     "text": [
      "Error: We don't have T-SHIRTs, we apologize. Please enter another product:\n"
     ]
    },
    {
     "name": "stdin",
     "output_type": "stream",
     "text": [
      "Which product will you have? t-shirt\n",
      "Which product will you have? mug\n",
      "Which product will you have? hat\n"
     ]
    },
    {
     "data": {
      "text/plain": [
       "{'hat', 'mug', 't-shirt'}"
      ]
     },
     "execution_count": 15,
     "metadata": {},
     "output_type": "execute_result"
    }
   ],
   "source": [
    "customer_orders=get_customer_orders(inventory)\n",
    "customer_orders"
   ]
  },
  {
   "cell_type": "markdown",
   "id": "dfaac6f2-79d0-4a6c-a34c-8f7962fe0e1e",
   "metadata": {},
   "source": [
    "4. Test your code by running the program and deliberately entering invalid quantities and product names. Make sure the error handling mechanism works as expected."
   ]
  }
 ],
 "metadata": {
  "kernelspec": {
   "display_name": "Python 3 (ipykernel)",
   "language": "python",
   "name": "python3"
  },
  "language_info": {
   "codemirror_mode": {
    "name": "ipython",
    "version": 3
   },
   "file_extension": ".py",
   "mimetype": "text/x-python",
   "name": "python",
   "nbconvert_exporter": "python",
   "pygments_lexer": "ipython3",
   "version": "3.12.4"
  }
 },
 "nbformat": 4,
 "nbformat_minor": 5
}
